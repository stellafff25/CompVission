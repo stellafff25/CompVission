{
 "cells": [
  {
   "metadata": {},
   "cell_type": "code",
   "outputs": [],
   "execution_count": null,
   "source": [
    "import numpy as np\n",
    "from PIL import Image"
   ],
   "id": "3c20035cd13d7afe"
  },
  {
   "metadata": {
    "collapsed": true,
    "ExecuteTime": {
     "end_time": "2024-10-12T19:09:22.093143Z",
     "start_time": "2024-10-12T19:09:22.081144Z"
    }
   },
   "cell_type": "code",
   "outputs": [],
   "execution_count": 31,
   "source": [
    "def rgb_to_gray(image_path):\n",
    "    img = Image.open(image_path)\n",
    "    img_array = np.array(img)\n",
    "\n",
    "    grayscale = 0.2989 * img_array[:, :, 0] + 0.5870 * img_array[:, :, 1] + 0.1140 * img_array[:, :, 2]\n",
    "\n",
    "    return grayscale.astype('uint8'), img_array\n",
    "\n",
    "def method_otsu(gray_image):\n",
    "    total_pixels = gray_image.size\n",
    "    pixel_counts = np.bincount(gray_image.flatten(), minlength=256)\n",
    "\n",
    "    sum_total = np.dot(np.arange(256), pixel_counts)\n",
    "    weight_background = 0\n",
    "    sum_background = 0\n",
    "    max_variance = 0\n",
    "    threshold = 0\n",
    "\n",
    "    for t in range(256):\n",
    "        weight_background += pixel_counts[t]\n",
    "        if weight_background == 0:\n",
    "            continue\n",
    "        \n",
    "        weight_foreground = total_pixels - weight_background\n",
    "        if weight_foreground == 0:\n",
    "            break\n",
    "        \n",
    "        sum_background += t * pixel_counts[t]\n",
    "        sum_foreground = sum_total - sum_background\n",
    "\n",
    "        mean_background = sum_background / weight_background\n",
    "        mean_foreground = sum_foreground / weight_foreground\n",
    "\n",
    "        variance_between = weight_background * weight_foreground * (mean_background - mean_foreground) ** 2\n",
    "\n",
    "        if variance_between > max_variance:\n",
    "            max_variance = variance_between\n",
    "            threshold = t\n",
    "\n",
    "    binary_image = np.where(gray_image > threshold, 0, 255)\n",
    "    return binary_image.astype('uint8'), threshold\n",
    "\n",
    "def extract_object(original_image, mask):\n",
    "    # Створюємо логічну маску з бінарного зображення\n",
    "    mask = mask == 255\n",
    "    # Створюємо порожнє зображення з тим самим розміром, що і оригінал\n",
    "    extracted_object = np.zeros_like(original_image)\n",
    "    # Копіюємо з оригіналу тільки ті пікселі, де маска істина\n",
    "    extracted_object[mask] = original_image[mask]\n",
    "\n",
    "    return extracted_object.astype('uint8')\n",
    "\n",
    "# Основна функція\n",
    "def main(image_path):\n",
    "    gray_image, original_image = rgb_to_gray(image_path)\n",
    "    binary_image, threshold = method_otsu(gray_image)\n",
    "    extracted_object = extract_object(original_image, binary_image)\n",
    "\n",
    "    # Збереження результатів\n",
    "    Image.fromarray(gray_image).save('grayscale_image.png')\n",
    "    Image.fromarray(binary_image).save('binary_image.png')\n",
    "    Image.fromarray(extracted_object).save('extracted_object.png') "
   ],
   "id": "initial_id"
  },
  {
   "metadata": {
    "ExecuteTime": {
     "end_time": "2024-10-12T19:09:22.348858Z",
     "start_time": "2024-10-12T19:09:22.099686Z"
    }
   },
   "cell_type": "code",
   "source": "main('C:/Users/Стелла/Desktop/CompVision/Lab1/Lab1/photo3.jpg')",
   "id": "a42fc3335d3e32f1",
   "outputs": [],
   "execution_count": 32
  }
 ],
 "metadata": {
  "kernelspec": {
   "display_name": "Python 3",
   "language": "python",
   "name": "python3"
  },
  "language_info": {
   "codemirror_mode": {
    "name": "ipython",
    "version": 2
   },
   "file_extension": ".py",
   "mimetype": "text/x-python",
   "name": "python",
   "nbconvert_exporter": "python",
   "pygments_lexer": "ipython2",
   "version": "2.7.6"
  }
 },
 "nbformat": 4,
 "nbformat_minor": 5
}
