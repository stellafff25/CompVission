{
 "cells": [
  {
   "cell_type": "code",
   "execution_count": 1,
   "id": "initial_id",
   "metadata": {
    "collapsed": true,
    "ExecuteTime": {
     "end_time": "2024-10-10T15:55:03.703429400Z",
     "start_time": "2024-10-10T15:55:01.590567200Z"
    }
   },
   "outputs": [
    {
     "name": "stdout",
     "output_type": "stream",
     "text": [
      "First rows of the DataFrame:\n",
      "      Name  Age         City\n",
      "0    Alice   24     New York\n",
      "1      Bob   27  Los Angeles\n",
      "2  Charlie   22      Chicago\n",
      "3    David   32      Houston\n",
      "4      Eva   29      Phoenix\n",
      "\n",
      "Filter rows where age is greater than 25:\n",
      "    Name  Age         City\n",
      "1    Bob   27  Los Angeles\n",
      "3  David   32      Houston\n",
      "4    Eva   29      Phoenix\n",
      "\n",
      "Statistics for numerical columns:\n",
      "             Age\n",
      "count   5.000000\n",
      "mean   26.800000\n",
      "std     3.962323\n",
      "min    22.000000\n",
      "25%    24.000000\n",
      "50%    27.000000\n",
      "75%    29.000000\n",
      "max    32.000000\n",
      "\n",
      "Average age by city:\n",
      "City\n",
      "Chicago        22.0\n",
      "Houston        32.0\n",
      "Los Angeles    27.0\n",
      "New York       24.0\n",
      "Phoenix        29.0\n",
      "Name: Age, dtype: float64\n"
     ]
    }
   ],
   "source": [
    "import pandas as pd\n",
    "\n",
    "# Create a DataFrame from a dictionary\n",
    "data = {\n",
    "    'Name': ['Alice', 'Bob', 'Charlie', 'David', 'Eva'],\n",
    "    'Age': [24, 27, 22, 32, 29],\n",
    "    'City': ['New York', 'Los Angeles', 'Chicago', 'Houston', 'Phoenix']\n",
    "}\n",
    "\n",
    "df = pd.DataFrame(data)\n",
    "\n",
    "# Display the first few rows of the DataFrame\n",
    "print(\"First rows of the DataFrame:\")\n",
    "print(df.head())\n",
    "\n",
    "# Filter rows where age is greater than 25\n",
    "print(\"\\nFilter rows where age is greater than 25:\")\n",
    "filtered_df = df[df['Age'] > 25]\n",
    "print(filtered_df)\n",
    "\n",
    "# Show basic statistics for numerical columns\n",
    "print(\"\\nStatistics for numerical columns:\")\n",
    "print(df.describe())\n",
    "\n",
    "# Group data by 'City' and calculate the average age for each group\n",
    "print(\"\\nAverage age by city:\")\n",
    "grouped_df = df.groupby('City')['Age'].mean()\n",
    "print(grouped_df)\n"
   ]
  },
  {
   "cell_type": "code",
   "outputs": [],
   "source": [
    "p"
   ],
   "metadata": {
    "collapsed": false
   },
   "id": "e653f33cc04d291e"
  }
 ],
 "metadata": {
  "kernelspec": {
   "display_name": "Python 3",
   "language": "python",
   "name": "python3"
  },
  "language_info": {
   "codemirror_mode": {
    "name": "ipython",
    "version": 2
   },
   "file_extension": ".py",
   "mimetype": "text/x-python",
   "name": "python",
   "nbconvert_exporter": "python",
   "pygments_lexer": "ipython2",
   "version": "2.7.6"
  }
 },
 "nbformat": 4,
 "nbformat_minor": 5
}
